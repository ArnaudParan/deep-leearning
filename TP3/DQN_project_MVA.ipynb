{
 "cells": [
  {
   "cell_type": "markdown",
   "metadata": {},
   "source": [
    "**You may need to install [OpenCV](https://pypi.python.org/pypi/opencv-python) and [scikit-video](http://www.scikit-video.org/stable/).**"
   ]
  },
  {
   "cell_type": "code",
   "execution_count": 1,
   "metadata": {},
   "outputs": [
    {
     "name": "stderr",
     "output_type": "stream",
     "text": [
      "Using TensorFlow backend.\n"
     ]
    }
   ],
   "source": [
    "import random\n",
    "import io\n",
    "import json\n",
    "import numpy as np\n",
    "import keras\n",
    "import base64\n",
    "from IPython.display import HTML\n",
    "import skvideo.io\n",
    "import cv2\n",
    "\n",
    "from keras.models import Sequential,model_from_json\n",
    "from keras.layers.core import Dense\n",
    "from keras.optimizers import sgd\n",
    "from keras.layers import (Conv2D, MaxPooling2D, Activation, AveragePooling2D,\n",
    "                          Reshape, BatchNormalization, Flatten, LocallyConnected2D,\n",
    "                          Dropout, GlobalAveragePooling2D)"
   ]
  },
  {
   "cell_type": "markdown",
   "metadata": {},
   "source": [
    "# MiniProject #3: Deep Reinforcement Learning"
   ]
  },
  {
   "cell_type": "markdown",
   "metadata": {},
   "source": [
    "__Notations__: $E_p$ is the expectation under probability $p$. Please justify each of your answer and widely comment your code."
   ]
  },
  {
   "cell_type": "markdown",
   "metadata": {},
   "source": [
    "# Context"
   ]
  },
  {
   "cell_type": "markdown",
   "metadata": {},
   "source": [
    "In a reinforcement learning algorithm, we modelize each step $t$ as an action $a_t$ obtained from a state $s_t$, i.e. $\\{(a_{t},s_{t})_{t\\leq T}\\}$ having the Markov property. We consider a discount factor $\\gamma \\in [0,1]$ that ensures convergence. The goal is to find among all the policies $\\pi$, one that maximizes the expected reward:\n",
    "\n",
    "\\begin{equation*}\n",
    "R(\\pi)=\\sum_{t\\leq T}E_{p^{\\pi}}[\\gamma^t r(s_{t},a_{t})] \\> ,\n",
    "\\end{equation*}\n",
    "\n",
    "where: \n",
    "\\begin{equation*}p^{\\pi}(a_{0},a_{1},s_{1},...,a_{T},s_{T})=p(a_{0})\\prod_{t=1}^{T}\\pi(a_{t}|s_{t})p(s_{t+1}|s_{t},a_{t}) \\> .\n",
    "\\end{equation*}\n",
    "\n",
    "We note the $Q$-function:\n",
    "\n",
    "\\begin{equation*}Q^\\pi(s,a)=E_{p^{\\pi}}[\\sum_{t\\leq T}\\gamma^{t}r(s_{t},a_{t})|s_{0}=s,a_{0}=a] \\> .\n",
    "\\end{equation*}\n",
    "\n",
    "Thus, the optimal Q function is:\n",
    "\\begin{equation*}\n",
    "Q^*(s,a)=\\max_{\\pi}Q^\\pi(s,a) \\> .\n",
    "\\end{equation*}\n",
    "\n",
    "In this project, we will apply the deep reinforcement learning techniques to a simple game: an agent will have to learn from scratch a policy that will permit it maximizing a reward."
   ]
  },
  {
   "cell_type": "markdown",
   "metadata": {},
   "source": [
    "## The environment, the agent and the game"
   ]
  },
  {
   "cell_type": "markdown",
   "metadata": {},
   "source": [
    "### The environment"
   ]
  },
  {
   "cell_type": "markdown",
   "metadata": {},
   "source": [
    "```Environment``` is an abstract class that represents the states, rewards, and actions to obtain the new state."
   ]
  },
  {
   "cell_type": "code",
   "execution_count": 2,
   "metadata": {},
   "outputs": [],
   "source": [
    "class Environment(object):\n",
    "    def __init__(self):\n",
    "        pass\n",
    "\n",
    "    def act(self, act):\n",
    "        \"\"\"\n",
    "        One can act on the environment and obtain its reaction:\n",
    "        - the new state\n",
    "        - the reward of the new state\n",
    "        - should we continue the game?\n",
    "\n",
    "        :return: state, reward, game_over\n",
    "        \"\"\"\n",
    "        pass\n",
    "\n",
    "\n",
    "    def reset(self):\n",
    "        \"\"\"\n",
    "        Reinitialize the environment to a random state and returns\n",
    "        the original state\n",
    "\n",
    "        :return: state\n",
    "        \"\"\"\n",
    "        pass\n",
    "    \n",
    "    def draw(self):\n",
    "        \"\"\"\n",
    "        Visualize in the console or graphically the current state\n",
    "        \"\"\"\n",
    "        pass"
   ]
  },
  {
   "cell_type": "markdown",
   "metadata": {},
   "source": [
    "The method ```act``` allows to act on the environment at a given state $s_t$ (stored internally), via action $a_t$. The method will return the new state $s_{t+1}$, the reward $r(s_{t},a_{t})$ and determines if $t\\leq T$ (*game_over*).\n",
    "\n",
    "The method ```reset``` simply reinitializes the environment to a random state $s_0$.\n",
    "\n",
    "The method ```draw``` displays the current state $s_t$ (this is useful to check the behavior of the Agent).\n",
    "\n",
    "We modelize $s_t$ as a tensor, while $a_t$ is an integer."
   ]
  },
  {
   "cell_type": "markdown",
   "metadata": {},
   "source": [
    "### The Agent"
   ]
  },
  {
   "cell_type": "markdown",
   "metadata": {},
   "source": [
    "The goal of the ```Agent``` is to interact with the ```Environment``` by proposing actions $a_t$ obtained from a given state $s_t$ to attempt to maximize its __reward__ $r(s_t,a_t)$. We propose the following abstract class:"
   ]
  },
  {
   "cell_type": "code",
   "execution_count": 3,
   "metadata": {},
   "outputs": [],
   "source": [
    "class Agent(object):\n",
    "    def __init__(self, epsilon=0.1, n_action=4):\n",
    "        self.epsilon = epsilon\n",
    "        self.n_action = n_action\n",
    "    \n",
    "    def set_epsilon(self,e):\n",
    "        self.epsilon = e\n",
    "\n",
    "    def act(self,s,train=True):\n",
    "        \"\"\" This function should return the next action to do:\n",
    "        an integer between 0 and 4 (not included) with a random exploration of epsilon\"\"\"\n",
    "        if train:\n",
    "            if np.random.rand() <= self.epsilon:\n",
    "                a = np.random.randint(0, self.n_action, size=1)[0]\n",
    "            else:\n",
    "                a = self.learned_act(s)\n",
    "        else: # in some cases, this can improve the performance.. remove it if poor performances\n",
    "            a = self.learned_act(s)\n",
    "\n",
    "        return a\n",
    "\n",
    "    def learned_act(self,s):\n",
    "        \"\"\" Act via the policy of the agent, from a given state s\n",
    "        it proposes an action a\"\"\"\n",
    "        pass\n",
    "\n",
    "    def reinforce(self, s, n_s, a, r, game_over_):\n",
    "        \"\"\" This function is the core of the learning algorithm. \n",
    "        It takes as an input the current state s_, the next state n_s_\n",
    "        the action a_ used to move from s_ to n_s_ and the reward r_.\n",
    "        \n",
    "        Its goal is to learn a policy.\n",
    "        \"\"\"\n",
    "        pass\n",
    "\n",
    "    def save(self):\n",
    "        \"\"\" This function returns basic stats if applicable: the\n",
    "        loss and/or the model\"\"\"\n",
    "        pass\n",
    "\n",
    "    def load(self):\n",
    "        \"\"\" This function allows to restore a model\"\"\"\n",
    "        pass"
   ]
  },
  {
   "cell_type": "markdown",
   "metadata": {},
   "source": [
    "***\n",
    "__Question 1__:\n",
    "Explain the function act. Why is ```epsilon``` essential?"
   ]
  },
  {
   "cell_type": "markdown",
   "metadata": {},
   "source": [
    "If the action is performed during train, with a probability $1-\\varepsilon$ we perform the learned act for\n",
    "the given $s$. With a probability $\\varepsilon$, we perform a random action.\n",
    "\n",
    "If we are not training, the learned action is always the one performed.\n",
    "\n",
    "$\\varepsilon$ is essential because if we don't have it, we will always perform\n",
    "the same actions and we will never learn"
   ]
  },
  {
   "cell_type": "markdown",
   "metadata": {},
   "source": [
    "***\n",
    "### The Game"
   ]
  },
  {
   "cell_type": "markdown",
   "metadata": {},
   "source": [
    "The ```Agent``` and the ```Environment``` work in an interlaced way as in the following (take some time to understand this code as it is the core of the project)\n",
    "\n",
    "```python\n",
    "\n",
    "epoch = 300\n",
    "env = Environment()\n",
    "agent = Agent()\n",
    "\n",
    "\n",
    "# Number of won games\n",
    "score = 0\n",
    "loss = 0\n",
    "\n",
    "\n",
    "for e in range(epoch):\n",
    "    # At each epoch, we restart to a fresh game and get the initial state\n",
    "    state = env.reset()\n",
    "    # This assumes that the games will end\n",
    "    game_over = False\n",
    "\n",
    "    win = 0\n",
    "    lose = 0\n",
    "    \n",
    "    while not game_over:\n",
    "        # The agent performs an action\n",
    "        action = agent.act(state)\n",
    "\n",
    "        # Apply an action to the environment, get the next state, the reward\n",
    "        # and if the games end\n",
    "        prev_state = state\n",
    "        state, reward, game_over = env.act(action)\n",
    "\n",
    "        # Update the counters\n",
    "        if reward > 0:\n",
    "            win = win + reward\n",
    "        if reward < 0:\n",
    "            lose = lose -reward\n",
    "\n",
    "        # Apply the reinforcement strategy\n",
    "        loss = agent.reinforce(prev_state, state,  action, reward, game_over)\n",
    "\n",
    "    # Save as a mp4\n",
    "    if e % 10 == 0:\n",
    "        env.draw(e)\n",
    "\n",
    "    # Update stats\n",
    "    score += win-lose\n",
    "\n",
    "    print(\"Epoch {:03d}/{:03d} | Loss {:.4f} | Win/lose count {}/{} ({})\"\n",
    "          .format(e, epoch, loss, win, lose, win-lose))\n",
    "    agent.save()\n",
    "```"
   ]
  },
  {
   "cell_type": "markdown",
   "metadata": {},
   "source": [
    "# The game, *eat cheese*"
   ]
  },
  {
   "cell_type": "markdown",
   "metadata": {},
   "source": [
    "A rat runs on an island and tries to eat as much as possible. The island is subdivided into $N\\times N$ cells, in which there are cheese (+0.5) and poisonous cells (-1). The rat has a visibility of 2 cells (thus it can see $5^2$ cells). The rat is given a time $T$ to accumulate as much food as possible. It can perform 4 actions: going up, down, left, right. \n",
    "\n",
    "The goal is to code an agent to solve this task that will learn by trial and error. We propose the following environment:"
   ]
  },
  {
   "cell_type": "code",
   "execution_count": 4,
   "metadata": {},
   "outputs": [],
   "source": [
    "class Environment(object):\n",
    "    def __init__(self, grid_size=10, max_time=500, temperature=0.1):\n",
    "        grid_size = grid_size+4\n",
    "        self.grid_size = grid_size\n",
    "        self.max_time = max_time\n",
    "        self.temperature = temperature\n",
    "\n",
    "        #board on which one plays\n",
    "        self.board = np.zeros((grid_size,grid_size))\n",
    "        self.position = np.zeros((grid_size,grid_size))\n",
    "\n",
    "        # coordinate of the cat\n",
    "        self.x = 0\n",
    "        self.y = 1\n",
    "\n",
    "        # self time\n",
    "        self.t = 0\n",
    "\n",
    "        self.scale=16\n",
    "\n",
    "        self.to_draw = np.zeros((max_time+2, grid_size*self.scale, grid_size*self.scale, 3))\n",
    "\n",
    "\n",
    "    def draw(self,e):\n",
    "        skvideo.io.vwrite(str(e) + '.mp4', self.to_draw)\n",
    "\n",
    "    def get_frame(self,t):\n",
    "        b = np.zeros((self.grid_size,self.grid_size,3))+128\n",
    "        b[self.board>0,0] = 256\n",
    "        b[self.board < 0, 2] = 256\n",
    "        b[self.x,self.y,:]=256\n",
    "        b[-2:,:,:]=0\n",
    "        b[:,-2:,:]=0\n",
    "        b[:2,:,:]=0\n",
    "        b[:,:2,:]=0\n",
    "        \n",
    "        b =  cv2.resize(b, None, fx=self.scale, fy=self.scale, interpolation=cv2.INTER_NEAREST)\n",
    "\n",
    "        self.to_draw[t,:,:,:]=b\n",
    "\n",
    "\n",
    "    def act(self, action):\n",
    "        \"\"\"This function returns the new state, reward and decides if the\n",
    "        game ends.\"\"\"\n",
    "\n",
    "        self.get_frame(int(self.t))\n",
    "\n",
    "        self.position = np.zeros((self.grid_size, self.grid_size))\n",
    "\n",
    "        self.position[0:2,:]= -1\n",
    "        self.position[:,0:2] = -1\n",
    "        self.position[-2:, :] = -1\n",
    "        self.position[:, -2:] = -1\n",
    "\n",
    "        self.position[self.x, self.y] = 1\n",
    "        if action == 0:\n",
    "            if self.x == self.grid_size-3:\n",
    "                self.x = self.x-1\n",
    "            else:\n",
    "                self.x = self.x + 1\n",
    "        elif action == 1:\n",
    "            if self.x == 2:\n",
    "                self.x = self.x+1\n",
    "            else:\n",
    "                self.x = self.x-1\n",
    "        elif action == 2:\n",
    "            if self.y == self.grid_size - 3:\n",
    "                self.y = self.y - 1\n",
    "            else:\n",
    "                self.y = self.y + 1\n",
    "        elif action == 3:\n",
    "            if self.y == 2:\n",
    "                self.y = self.y + 1\n",
    "            else:\n",
    "                self.y = self.y - 1\n",
    "        else:\n",
    "            RuntimeError('Error: action not recognized')\n",
    "\n",
    "        self.t = self.t + 1\n",
    "        reward = self.board[self.x, self.y]\n",
    "        self.board[self.x, self.y] = 0\n",
    "        game_over = self.t > self.max_time\n",
    "        state = np.concatenate((self.board.reshape(self.grid_size, self.grid_size,1),\n",
    "                        self.position.reshape(self.grid_size, self.grid_size,1)),axis=2)\n",
    "        state = state[self.x-2:self.x+3, self.y-2:self.y+3, :]\n",
    "\n",
    "        return state, reward, game_over\n",
    "\n",
    "    def reset(self):\n",
    "        \"\"\"This function resets the game and returns the initial state\"\"\"\n",
    "\n",
    "        self.x = np.random.randint(3, self.grid_size-3, size=1)[0]\n",
    "        self.y = np.random.randint(3, self.grid_size-3, size=1)[0]\n",
    "\n",
    "\n",
    "        bonus = 0.5*np.random.binomial(1,self.temperature,size=self.grid_size**2)\n",
    "        bonus = bonus.reshape(self.grid_size,self.grid_size)\n",
    "\n",
    "        malus = -1.0*np.random.binomial(1,self.temperature,size=self.grid_size**2)\n",
    "        malus = malus.reshape(self.grid_size, self.grid_size)\n",
    "\n",
    "        self.to_draw = np.zeros((self.max_time+2, self.grid_size*self.scale, self.grid_size*self.scale, 3))\n",
    "\n",
    "\n",
    "        malus[bonus>0]=0\n",
    "\n",
    "        self.board = bonus + malus\n",
    "\n",
    "        self.position = np.zeros((self.grid_size, self.grid_size))\n",
    "        self.position[0:2,:]= -1\n",
    "        self.position[:,0:2] = -1\n",
    "        self.position[-2:, :] = -1\n",
    "        self.position[-2:, :] = -1\n",
    "        self.board[self.x,self.y] = 0\n",
    "        self.t = 0\n",
    "\n",
    "        state = np.concatenate((\n",
    "                               self.board.reshape(self.grid_size, self.grid_size,1),\n",
    "                        self.position.reshape(self.grid_size, self.grid_size,1)),axis=2)\n",
    "\n",
    "        state = state[self.x - 2:self.x + 3, self.y - 2:self.y + 3, :]\n",
    "        return state"
   ]
  },
  {
   "cell_type": "markdown",
   "metadata": {},
   "source": [
    "The following elements are important because they correspond to the hyper parameters for this project:"
   ]
  },
  {
   "cell_type": "code",
   "execution_count": 5,
   "metadata": {
    "scrolled": true
   },
   "outputs": [],
   "source": [
    "# parameters\n",
    "size = 13\n",
    "T=200\n",
    "temperature=0.3\n",
    "epochs_train=2\n",
    "epochs_test=2\n",
    "\n",
    "# display videos\n",
    "def display_videos(name):\n",
    "    video = io.open(name, 'r+b').read()\n",
    "    encoded = base64.b64encode(video)\n",
    "    return '''<video alt=\"test\" controls>\n",
    "                <source src=\"data:video/mp4;base64,{0}\" type=\"video/mp4\" />\n",
    "             </video>'''.format(encoded.decode('ascii'))"
   ]
  },
  {
   "cell_type": "markdown",
   "metadata": {},
   "source": [
    "__Question 2__ Explain the use of the arrays ```position``` and ```board```."
   ]
  },
  {
   "cell_type": "markdown",
   "metadata": {},
   "source": [
    "```position``` contains a 1 on the position of the rat -1 on the points which are behind the borders of\n",
    "the board and zeros on the rest. We use it to send the position of the rat when we return the state array.\n",
    "\n",
    "```board``` contains the reward/malus in position on the game board at the time t. It is used to know which\n",
    "reward/malus the rat is currently having."
   ]
  },
  {
   "cell_type": "markdown",
   "metadata": {},
   "source": [
    "## Random Agent"
   ]
  },
  {
   "cell_type": "markdown",
   "metadata": {},
   "source": [
    "***\n",
    "__Question 3__ Implement a random Agent (only ```learned_act``` needs to be implemented):"
   ]
  },
  {
   "cell_type": "code",
   "execution_count": 6,
   "metadata": {},
   "outputs": [],
   "source": [
    "class RandomAgent(Agent):\n",
    "    def __init__(self):\n",
    "        super(RandomAgent, self).__init__()\n",
    "        pass\n",
    "\n",
    "    def learned_act(self, s):\n",
    "        return np.random.randint(0, self.n_action, size=1)[0]"
   ]
  },
  {
   "cell_type": "markdown",
   "metadata": {},
   "source": [
    "***\n",
    "***\n",
    "__Question 4__ Visualize the game moves. You need to fill in the following function for the evaluation:"
   ]
  },
  {
   "cell_type": "code",
   "execution_count": 7,
   "metadata": {},
   "outputs": [],
   "source": [
    "def test(agent,env,epochs,prefix=''):\n",
    "    # Number of won games\n",
    "    score = 0\n",
    "        \n",
    "    for e in range(epochs):\n",
    "        # At each epoch, we restart to a fresh game and get the initial state\n",
    "        state = env.reset()\n",
    "        # This assumes that the games will end\n",
    "        game_over = False\n",
    "\n",
    "        win = 0\n",
    "        lose = 0\n",
    "    \n",
    "        while not game_over:\n",
    "            # The agent performs an action\n",
    "            action = agent.act(state)\n",
    "\n",
    "            # Apply an action to the environment, get the next state, the reward\n",
    "            # and if the games end\n",
    "            prev_state = state\n",
    "            state, reward, game_over = env.act(action)\n",
    "\n",
    "            # Update the counters\n",
    "            if reward > 0:\n",
    "                win = win + reward\n",
    "            if reward < 0:\n",
    "                lose = lose -reward\n",
    "\n",
    "            # Apply the reinforcement strategy\n",
    "            loss = agent.reinforce(prev_state, state,  action, reward, game_over)\n",
    "\n",
    "        # Update stats\n",
    "        score += win-lose\n",
    "\n",
    "        agent.save()\n",
    "        ##### FILL IN HERE\n",
    "        \n",
    "        # Save as a mp4\n",
    "        env.draw(prefix+str(e))\n",
    "\n",
    "        print(\"Win/lose count {}/{}. Average score ({})\"\n",
    "              .format(win, lose, score/(1+e)))\n",
    "    print('Final score: '+str(score/epochs))"
   ]
  },
  {
   "cell_type": "code",
   "execution_count": 8,
   "metadata": {},
   "outputs": [
    {
     "name": "stdout",
     "output_type": "stream",
     "text": [
      "Win/lose count 10.0/13.0. Average score (-3.0)\n",
      "Win/lose count 8.0/13.0. Average score (-4.0)\n",
      "Final score: -4.0\n"
     ]
    },
    {
     "data": {
      "text/html": [
       "<video alt=\"test\" controls>\n",
       "                <source src=\"data:video/mp4;base64,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\" type=\"video/mp4\" />\n",
       "             </video>"
      ],
      "text/plain": [
       "<IPython.core.display.HTML object>"
      ]
     },
     "execution_count": 8,
     "metadata": {},
     "output_type": "execute_result"
    }
   ],
   "source": [
    "# Initialize the game\n",
    "env = Environment(grid_size=size, max_time=T,temperature=temperature)\n",
    "\n",
    "# Initialize the agent!\n",
    "agent = RandomAgent()\n",
    "\n",
    "test(agent,env,epochs_test,prefix='random')\n",
    "HTML(display_videos('random0.mp4'))"
   ]
  },
  {
   "cell_type": "markdown",
   "metadata": {},
   "source": [
    "***\n",
    "## DQN"
   ]
  },
  {
   "cell_type": "markdown",
   "metadata": {},
   "source": [
    "Let us assume here that $T=\\infty$.\n",
    "\n",
    "***\n",
    "__Question 5__ Let $\\pi$ be a policy, show that:\n",
    "\n",
    "\\begin{equation*}\n",
    "Q^{\\pi}(s,a)=E_{(s',a')\\sim p(.|s,a)}[r(s,a)+\\gamma Q^{\\pi}(s',a')]\n",
    "\\end{equation*}\n",
    "\n",
    "Then, show that for the optimal policy $\\pi^*$ (we assume its existence), the following holds: \n",
    "\n",
    "\\begin{equation*}\n",
    "Q^{*}(s,a)=E_{s'\\sim \\pi^*(.|s,a)}[r(s,a)+\\gamma\\max_{a'}Q^{*}(s',a')].\n",
    "\\end{equation*}\n",
    "Finally, deduce that a plausible objective is:\n",
    "\n",
    "\\begin{equation*}\n",
    "\\mathcal{L}(\\theta)=E_{s' \\sim \\pi^*(.|s,a)}\\Vert r+\\gamma\\max\\max_{a'}Q(s',a',\\theta)-Q(s,a,\\theta)\\Vert^{2}.\n",
    "\\end{equation*}\n",
    "\n",
    "\n"
   ]
  },
  {
   "cell_type": "markdown",
   "metadata": {},
   "source": [
    "First,\n",
    "$$Q^\\pi(s',a')=E_{p^{\\pi}}[\\sum_{t}\\gamma^{t}r(s_{t},a_{t})|s_{0}=s',a_{0}=a']$$\n",
    "So we get\n",
    "$$E_{(s',a')\\sim p(.|s,a)}[r(s,a)+\\gamma Q^{\\pi}(s',a')]=E_{(s',a')\\sim p(.|s,a)}[r(s,a)+E_{p^{\\pi}}[\\sum_{t \\geq 1}\\gamma^{t}r(s_{t},a_{t})|s_{1}=s',a_{1}=a']]$$\n",
    "$$E_{(s',a')\\sim p(.|s,a)}[r(s,a)+\\gamma Q^{\\pi}(s',a')]=E_{(s',a')\\sim p(.|s,a)}[E_{p^{\\pi}}[\\sum_{t \\geq 0}\\gamma^{t}r(s_{t},a_{t})|s_{0}=s,a_{0}=a,s_{1}=s',a_{1}=a']]$$\n",
    "$$E_{(s',a')\\sim p(.|s,a)}[r(s,a)+\\gamma Q^{\\pi}(s',a')]=E_{p^{\\pi}}[\\sum_{t \\geq 0}\\gamma^{t}r(s_{t},a_{t})|s_{0}=s,a_{0}=a]=Q^\\pi(s,a)$$\n",
    "\n",
    "\n",
    "Secondly, if\n",
    "$$Q^{*}(s,a)\\neq E_{s'\\sim \\pi^*(.|s,a)}[r(s,a)+\\gamma\\max_{a'}Q^{*}(s',a')]$$\n",
    "We can create $\\pi^+$ so that $\\pi^+(a_{t+1} = \\arg\\max\\limits_a Q^*(s_t, a_t)) = 1$"
   ]
  },
  {
   "cell_type": "markdown",
   "metadata": {},
   "source": [
    "***\n",
    "The DQN-learning algorithm relies on these derivations to train the parameters $\\theta$ of a Deep Neural Network:\n",
    "\n",
    "1. At the state $s_t$, select the action $a_t$ with best reward using $Q_t$ and store the results;\n",
    "\n",
    "2. Obtain the new state $s_{t+1}$ from the environment $p$;\n",
    "\n",
    "3. Store $(s_t,a_t,s_{t+1})$;\n",
    "\n",
    "4. Obtain $Q_{t+1}$ by minimizing  $\\mathcal{L}$ from a recovered batch from the previously stored results.\n",
    "\n",
    "***\n",
    "__Question 6__ Implement the class ```Memory``` that stores moves (in a replay buffer) via ```remember``` and provides a ```random_access``` to these. Specify a maximum memory size to avoid side effects. You can for example use a ```list()``` and set by default ```max_memory=100```."
   ]
  },
  {
   "cell_type": "code",
   "execution_count": 9,
   "metadata": {},
   "outputs": [],
   "source": [
    "class Memory(object):\n",
    "    def __init__(self, max_memory=100):\n",
    "        self.max_memory = max_memory\n",
    "        self.memory = list()\n",
    "\n",
    "    def remember(self, m):\n",
    "        self.memory.append(m)\n",
    "        if len(self.memory) >= self.max_memory:\n",
    "            self.memory.pop(0)\n",
    "\n",
    "    def random_access(self, batch_size=None):\n",
    "        if batch_size is None:\n",
    "            return random.choice(self.memory)\n",
    "        return random.sample(self.memory, batch_size)"
   ]
  },
  {
   "cell_type": "markdown",
   "metadata": {},
   "source": [
    "***\n",
    "The pipeline we will use for training is given below:"
   ]
  },
  {
   "cell_type": "code",
   "execution_count": 10,
   "metadata": {},
   "outputs": [],
   "source": [
    "def train(agent,env,epoch,prefix=''):\n",
    "    # Number of won games\n",
    "    score = 0\n",
    "    loss = 0\n",
    "\n",
    "    for e in range(epoch):\n",
    "        # At each epoch, we restart to a fresh game and get the initial state\n",
    "        state = env.reset()\n",
    "        # This assumes that the games will terminate\n",
    "        game_over = False\n",
    "\n",
    "        win = 0\n",
    "        lose = 0\n",
    "\n",
    "        while not game_over:\n",
    "            # The agent performs an action\n",
    "            action = agent.act(state)\n",
    "\n",
    "            # Apply an action to the environment, get the next state, the reward\n",
    "            # and if the games end\n",
    "            prev_state = state\n",
    "            state, reward, game_over = env.act(action)\n",
    "\n",
    "            # Update the counters\n",
    "            if reward > 0:\n",
    "                win = win + reward\n",
    "            if reward < 0:\n",
    "                lose = lose -reward\n",
    "\n",
    "            # Apply the reinforcement strategy\n",
    "            loss = agent.reinforce(prev_state, state,  action, reward, game_over)\n",
    "\n",
    "        # Save as a mp4\n",
    "        if e % 10 == 0:\n",
    "            env.draw(prefix+str(e))\n",
    "\n",
    "        # Update stats\n",
    "        score += win-lose\n",
    "\n",
    "        print(\"Epoch {:03d}/{:03d} | Loss {:.4f} | Win/lose count {}/{} ({})\"\n",
    "              .format(e, epoch, loss, win, lose, win-lose))\n",
    "        agent.save(name_weights=prefix+'model.h5',name_model=prefix+'model.json')"
   ]
  },
  {
   "cell_type": "markdown",
   "metadata": {},
   "source": [
    "***\n",
    "__Question 7__ Implement the DQN training algorithm using a cascade of fully connected layers. You can use different learning rate, batch size or memory size parameters. In particular, the loss might oscillate while the player will start to win the games. You have to find a good criterium."
   ]
  },
  {
   "cell_type": "code",
   "execution_count": 18,
   "metadata": {},
   "outputs": [],
   "source": [
    "class DQN(Agent):\n",
    "    def __init__(self, grid_size,  epsilon = 0.1, memory_size=100, batch_size = 16,n_state=2):\n",
    "        super(DQN, self).__init__(epsilon = epsilon)\n",
    "\n",
    "        # Discount for Q learning\n",
    "        self.discount = 0.99\n",
    "        \n",
    "        self.grid_size = grid_size\n",
    "        \n",
    "        # number of state\n",
    "        self.n_state = n_state\n",
    "\n",
    "        # Memory\n",
    "        self.memory = Memory(memory_size)\n",
    "        \n",
    "        # Batch size when learning\n",
    "        self.batch_size = batch_size\n",
    "\n",
    "    def learned_act(self, s):\n",
    "        return np.argmax(self.model.predict(s.reshape((1, 5, 5, 2)))[0])\n",
    "\n",
    "    def reinforce(self, s_, n_s_, a_, r_, game_over_):\n",
    "        # Two steps: first memorize the states, second learn from the pool\n",
    "\n",
    "        self.memory.remember([s_, n_s_, a_, r_, game_over_])\n",
    "        \n",
    "        input_states = np.zeros((self.batch_size, 5,5,self.n_state))\n",
    "        target_q = np.zeros((self.batch_size, 4))\n",
    "        \n",
    "        for i in range(self.batch_size):\n",
    "            ######## FILL IN\n",
    "            c_s, c_n_s, c_a, c_r, c_game_over = self.memory.random_access()\n",
    "            input_states[i,:] = c_s\n",
    "            target_q[i,:] = self.model.predict(c_s.reshape((1, 5, 5, 2)))[0]\n",
    "            if c_game_over:\n",
    "                target_q[i, c_a] = c_r \n",
    "            else:\n",
    "                target_q[i, c_a] = c_r + self.discount * np.max(self.model.predict(c_n_s.reshape((1, 5, 5, 2))))\n",
    "        ######## FILL IN\n",
    "        # HINT: Clip the target to avoid exploiding gradients.. -- clipping is a bit tighter\n",
    "        target_q = np.clip(target_q, -3, 3)\n",
    "\n",
    "        l = self.model.train_on_batch(input_states, target_q)\n",
    "\n",
    "\n",
    "        return l\n",
    "\n",
    "    def save(self,name_weights='model.h5',name_model='model.json'):\n",
    "        self.model.save_weights(name_weights, overwrite=True)\n",
    "        with open(name_model, \"w\") as outfile:\n",
    "            json.dump(self.model.to_json(), outfile)\n",
    "            \n",
    "    def load(self,name_weights='model.h5',name_model='model.json'):\n",
    "        with open(name_model, \"r\") as jfile:\n",
    "            model = model_from_json(json.load(jfile))\n",
    "        model.load_weights(name_weights)\n",
    "        model.compile(\"sgd\", \"mse\")\n",
    "        self.model = model\n",
    "\n",
    "            \n",
    "class DQN_FC(DQN):\n",
    "    def __init__(self, *args, lr=0.1,**kwargs):\n",
    "        super(DQN_FC, self).__init__( *args,**kwargs)\n",
    "        \n",
    "        # NN Model\n",
    "        model = Sequential()\n",
    "        \n",
    "        model.add(Flatten(input_shape=(5, 5, 2)))\n",
    "        model.add(BatchNormalization())\n",
    "        model.add(Dense(16, activation=\"relu\"))\n",
    "        model.add(Dropout(0.3))\n",
    "        \n",
    "        model.add(BatchNormalization())\n",
    "        model.add(Dense(8, activation=\"relu\"))\n",
    "        model.add(Dropout(0.3))\n",
    "        \n",
    "        model.add(BatchNormalization())\n",
    "        model.add(Dense(4))\n",
    "        #model.add(Dropout(0.3))\n",
    "        model.add(Activation(\"softmax\"))\n",
    "        ####### FILL IN\n",
    "        \n",
    "        model.compile(sgd(lr=lr, decay=1e-4, momentum=0.0), \"mse\")\n",
    "        self.model = model\n",
    "        "
   ]
  },
  {
   "cell_type": "code",
   "execution_count": 21,
   "metadata": {},
   "outputs": [
    {
     "name": "stdout",
     "output_type": "stream",
     "text": [
      "Epoch 000/011 | Loss 0.0595 | Win/lose count 8.0/15.0 (-7.0)\n",
      "Epoch 001/011 | Loss 0.0421 | Win/lose count 3.5/7.0 (-3.5)\n",
      "Epoch 002/011 | Loss 0.0366 | Win/lose count 4.0/4.0 (0.0)\n",
      "Epoch 003/011 | Loss 0.0296 | Win/lose count 4.5/6.0 (-1.5)\n",
      "Epoch 004/011 | Loss 0.0305 | Win/lose count 10.5/14.0 (-3.5)\n",
      "Epoch 005/011 | Loss 0.0337 | Win/lose count 6.5/5.0 (1.5)\n",
      "Epoch 006/011 | Loss 0.0190 | Win/lose count 1.5/7.0 (-5.5)\n",
      "Epoch 007/011 | Loss 0.0233 | Win/lose count 4.5/4.0 (0.5)\n",
      "Epoch 008/011 | Loss 0.0093 | Win/lose count 3.0/5.0 (-2.0)\n",
      "Epoch 009/011 | Loss 0.0160 | Win/lose count 4.0/6.0 (-2.0)\n",
      "Epoch 010/011 | Loss 0.0132 | Win/lose count 2.0/4.0 (-2.0)\n"
     ]
    },
    {
     "data": {
      "text/html": [
       "<video alt=\"test\" controls>\n",
       "                <source src=\"data:video/mp4;base64,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\" type=\"video/mp4\" />\n",
       "             </video>"
      ],
      "text/plain": [
       "<IPython.core.display.HTML object>"
      ]
     },
     "execution_count": 21,
     "metadata": {},
     "output_type": "execute_result"
    }
   ],
   "source": [
    "epochs_train = 11\n",
    "env = Environment(grid_size=size, max_time=T, temperature=0.3)\n",
    "agent = DQN_FC(size, lr=.05, epsilon=0.1, memory_size=2000, batch_size = 32)\n",
    "train(agent, env, epochs_train, prefix='fc_train')\n",
    "HTML(display_videos('fc_train0.mp4'))"
   ]
  },
  {
   "cell_type": "code",
   "execution_count": 22,
   "metadata": {},
   "outputs": [
    {
     "name": "stdout",
     "output_type": "stream",
     "text": [
      "Test of the FC\n",
      "Win/lose count 3.0/6.0. Average score (-3.0)\n",
      "Win/lose count 3.0/7.0. Average score (-3.5)\n",
      "Final score: -3.5\n"
     ]
    },
    {
     "data": {
      "text/html": [
       "<video alt=\"test\" controls>\n",
       "                <source src=\"data:video/mp4;base64,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\" type=\"video/mp4\" />\n",
       "             </video>"
      ],
      "text/plain": [
       "<IPython.core.display.HTML object>"
      ]
     },
     "execution_count": 22,
     "metadata": {},
     "output_type": "execute_result"
    }
   ],
   "source": [
    "print('Test of the FC')\n",
    "#epochs_test = 1\n",
    "test(agent, env,epochs_test, prefix='fc_test')\n",
    "HTML(display_videos(f'fc_test{epochs_test-1}.mp4'))"
   ]
  },
  {
   "cell_type": "markdown",
   "metadata": {},
   "source": [
    "***\n",
    "***\n",
    "__Question 8__ Implement the DQN training algorithm using a CNN (for example, 2 convolutional layers and one final fully connected layer)."
   ]
  },
  {
   "cell_type": "code",
   "execution_count": null,
   "metadata": {},
   "outputs": [],
   "source": [
    "class DQN_CNN(DQN):\n",
    "    def __init__(self, *args,lr=0.1,**kwargs):\n",
    "        super(DQN_CNN, self).__init__(*args,**kwargs)\n",
    "        \n",
    "        model = Sequential()\n",
    "        \n",
    "        model.add(BatchNormalization(input_shape=(5, 5, 2)))\n",
    "        model.add(Conv2D(16, 3, activation=\"relu\"))\n",
    "        model.add(Dropout(0.2))\n",
    "        \n",
    "        model.add(BatchNormalization())\n",
    "        model.add(Conv2D(32, 3, activation=\"relu\"))\n",
    "        model.add(Dropout(0.2))\n",
    "        \n",
    "        model.add(Flatten())\n",
    "        model.add(BatchNormalization())\n",
    "        model.add(Dense(256, activation=\"relu\"))\n",
    "        model.add(Dropout(0.2))\n",
    "\n",
    "        model.add(Dense(4, activation=\"softmax\"))\n",
    "        ###### FILL IN\n",
    "        \n",
    "        model.compile(sgd(lr=lr, decay=1e-4, momentum=0.0), \"mse\")\n",
    "        self.model = model"
   ]
  },
  {
   "cell_type": "code",
   "execution_count": null,
   "metadata": {},
   "outputs": [
    {
     "name": "stdout",
     "output_type": "stream",
     "text": [
      "Epoch 000/011 | Loss 0.0233 | Win/lose count 2.5/12.0 (-9.5)\n",
      "Epoch 001/011 | Loss 0.0074 | Win/lose count 3.0/6.0 (-3.0)\n",
      "Epoch 002/011 | Loss 0.0185 | Win/lose count 1.5/3.0 (-1.5)\n",
      "Epoch 003/011 | Loss 0.0076 | Win/lose count 5.0/3.0 (2.0)\n",
      "Epoch 004/011 | Loss 0.0046 | Win/lose count 7.5/4.0 (3.5)\n",
      "Epoch 005/011 | Loss 0.0221 | Win/lose count 3.5/1.0 (2.5)\n",
      "Epoch 006/011 | Loss 0.0082 | Win/lose count 2.5/1.0 (1.5)\n"
     ]
    }
   ],
   "source": [
    "env = Environment(grid_size=size, max_time=T, temperature=0.3)\n",
    "agent = DQN_CNN(size, lr=.05, epsilon = 0.1, memory_size=2000, batch_size = 32)\n",
    "train(agent,env,epochs_train,prefix='cnn_train')\n",
    "HTML(display_videos('cnn_train10.mp4'))"
   ]
  },
  {
   "cell_type": "markdown",
   "metadata": {},
   "source": [
    "***\n",
    "***\n",
    "__Question 9__ Test both algorithms and compare their performances. Which issue(s) do you observe? Observe also different behaviors by changing the temperature."
   ]
  },
  {
   "cell_type": "code",
   "execution_count": null,
   "metadata": {},
   "outputs": [],
   "source": [
    "env = Environment(grid_size=size, max_time=T,temperature=0.3)\n",
    "agent_cnn = DQN_CNN(size, lr=.1, epsilon = 0.1, memory_size=2000, batch_size = 32)\n",
    "agent_cnn.load(name_weights='cnn_trainmodel.h5',name_model='cnn_trainmodel.json')\n",
    "\n",
    "agent_fc = DQN_FC(size, lr=.1, epsilon = 0.1, memory_size=2000, batch_size = 32)\n",
    "agent_cnn.load(name_weights='fc_trainmodel.h5',name_model='fc_trainmodel.json')\n",
    "print('Test of the CNN')\n",
    "test(agent_cnn,env,epochs_test,prefix='cnn_test')\n",
    "print('Test of the FC')\n",
    "test(agent_fc,env,epochs_test,prefix='fc_test')"
   ]
  },
  {
   "cell_type": "code",
   "execution_count": null,
   "metadata": {},
   "outputs": [],
   "source": [
    "HTML(display_videos('cnn_test0.mp4'))"
   ]
  },
  {
   "cell_type": "code",
   "execution_count": null,
   "metadata": {},
   "outputs": [],
   "source": [
    "HTML(display_videos('fc_test0.mp4'))"
   ]
  },
  {
   "cell_type": "markdown",
   "metadata": {},
   "source": [
    "The CNN algorithm has better convergence than the fully connected one,\n",
    "However, the algorithms tend to produce a mouse which does not explore the map, it is intuitive as the random action is a random march and would tend to stay at the same place."
   ]
  },
  {
   "cell_type": "markdown",
   "metadata": {},
   "source": [
    "***\n",
    "\n",
    "The algorithm tends to not explore the map which can be an issue. We propose two ideas in order to encourage exploration:\n",
    "1. Incorporating a decreasing $\\epsilon$-greedy exploration. You can use the method ```set_epsilon```\n",
    "2. Append via the environment a new state that describes if a cell has been visited or not\n",
    "\n",
    "***\n",
    "__Question 10__ Design a new ```train_explore``` function and environment class ```EnvironmentExploring``` to tackle the issue of exploration.\n",
    "\n"
   ]
  },
  {
   "cell_type": "code",
   "execution_count": null,
   "metadata": {
    "collapsed": true
   },
   "outputs": [],
   "source": [
    "def train_explore(agent,env,epoch,prefix=''):\n",
    "    pass\n",
    "\n",
    "class Environment(object):\n",
    "    def __init__(self, grid_size=10, max_time=500, temperature=0.1):\n",
    "        grid_size = grid_size+4\n",
    "        self.grid_size = grid_size\n",
    "        self.max_time = max_time\n",
    "        self.temperature = temperature\n",
    "\n",
    "        #board on which one plays\n",
    "        self.board = np.zeros((grid_size,grid_size))\n",
    "        self.position = np.zeros((grid_size,grid_size))\n",
    "\n",
    "        # coordinate of the cat\n",
    "        self.x = 0\n",
    "        self.y = 1\n",
    "\n",
    "        # self time\n",
    "        self.t = 0\n",
    "\n",
    "        self.scale=16\n",
    "\n",
    "        self.to_draw = np.zeros((max_time+2, grid_size*self.scale, grid_size*self.scale, 3))\n",
    "\n",
    "\n",
    "    def draw(self,e):\n",
    "        skvideo.io.vwrite(str(e) + '.mp4', self.to_draw)\n",
    "\n",
    "    def get_frame(self,t):\n",
    "        b = np.zeros((self.grid_size,self.grid_size,3))+128\n",
    "        b[self.board>0,0] = 256\n",
    "        b[self.board < 0, 2] = 256\n",
    "        b[self.x,self.y,:]=256\n",
    "        b[-2:,:,:]=0\n",
    "        b[:,-2:,:]=0\n",
    "        b[:2,:,:]=0\n",
    "        b[:,:2,:]=0\n",
    "        \n",
    "        b =  cv2.resize(b, None, fx=self.scale, fy=self.scale, interpolation=cv2.INTER_NEAREST)\n",
    "\n",
    "        self.to_draw[t,:,:,:]=b\n",
    "\n",
    "\n",
    "    def act(self, action):\n",
    "        \"\"\"This function returns the new state, reward and decides if the\n",
    "        game ends.\"\"\"\n",
    "\n",
    "        self.get_frame(int(self.t))\n",
    "\n",
    "        self.position = np.zeros((self.grid_size, self.grid_size))\n",
    "\n",
    "        self.position[0:2,:]= -1\n",
    "        self.position[:,0:2] = -1\n",
    "        self.position[-2:, :] = -1\n",
    "        self.position[:, -2:] = -1\n",
    "\n",
    "        self.position[self.x, self.y] = 1\n",
    "        if action == 0:\n",
    "            if self.x == self.grid_size-3:\n",
    "                self.x = self.x-1\n",
    "            else:\n",
    "                self.x = self.x + 1\n",
    "        elif action == 1:\n",
    "            if self.x == 2:\n",
    "                self.x = self.x+1\n",
    "            else:\n",
    "                self.x = self.x-1\n",
    "        elif action == 2:\n",
    "            if self.y == self.grid_size - 3:\n",
    "                self.y = self.y - 1\n",
    "            else:\n",
    "                self.y = self.y + 1\n",
    "        elif action == 3:\n",
    "            if self.y == 2:\n",
    "                self.y = self.y + 1\n",
    "            else:\n",
    "                self.y = self.y - 1\n",
    "        else:\n",
    "            RuntimeError('Error: action not recognized')\n",
    "\n",
    "        self.t = self.t + 1\n",
    "        reward = self.board[self.x, self.y]\n",
    "        self.board[self.x, self.y] = 0\n",
    "        game_over = self.t > self.max_time\n",
    "        state = np.concatenate((self.board.reshape(self.grid_size, self.grid_size,1),\n",
    "                        self.position.reshape(self.grid_size, self.grid_size,1)),axis=2)\n",
    "        state = state[self.x-2:self.x+3, self.y-2:self.y+3, :]\n",
    "\n",
    "        return state, reward, game_over\n",
    "\n",
    "    def reset(self):\n",
    "        \"\"\"This function resets the game and returns the initial state\"\"\"\n",
    "\n",
    "        self.x = np.random.randint(3, self.grid_size-3, size=1)[0]\n",
    "        self.y = np.random.randint(3, self.grid_size-3, size=1)[0]\n",
    "\n",
    "\n",
    "        bonus = 0.5*np.random.binomial(1,self.temperature,size=self.grid_size**2)\n",
    "        bonus = bonus.reshape(self.grid_size,self.grid_size)\n",
    "\n",
    "        malus = -1.0*np.random.binomial(1,self.temperature,size=self.grid_size**2)\n",
    "        malus = malus.reshape(self.grid_size, self.grid_size)\n",
    "\n",
    "        self.to_draw = np.zeros((self.max_time+2, self.grid_size*self.scale, self.grid_size*self.scale, 3))\n",
    "\n",
    "\n",
    "        malus[bonus>0]=0\n",
    "\n",
    "        self.board = bonus + malus\n",
    "\n",
    "        self.position = np.zeros((self.grid_size, self.grid_size))\n",
    "        self.position[0:2,:]= -1\n",
    "        self.position[:,0:2] = -1\n",
    "        self.position[-2:, :] = -1\n",
    "        self.position[-2:, :] = -1\n",
    "        self.board[self.x,self.y] = 0\n",
    "        self.t = 0\n",
    "\n",
    "        state = np.concatenate((\n",
    "                               self.board.reshape(self.grid_size, self.grid_size,1),\n",
    "                        self.position.reshape(self.grid_size, self.grid_size,1)),axis=2)\n",
    "\n",
    "        state = state[self.x - 2:self.x + 3, self.y - 2:self.y + 3, :]\n",
    "        return state\n",
    "\n",
    "class EnvironmentExploring(object):\n",
    "    def __init__(self, grid_size=10, max_time=500, temperature=0.1):\n",
    "        pass\n",
    "    \n",
    "## use those samples of code:\n",
    "#In train explore:\n",
    "state, reward, game_over = env.act(action, train=True)\n",
    "\n",
    "## In Environment exploring:\n",
    "# You will have to change n_state to 3 because you will use one more layer!\n",
    "reward = 0\n",
    "if train:\n",
    "    reward = -self.malus_position[self.x, self.y]\n",
    "self.malus_position[self.x, self.y] = 0.1\n",
    "\n",
    "reward = reward + self.board[self.x, self.y]\n",
    "# 3 \"feature\" states instead of 2\n",
    "state = np.concatenate((self.malus_position.reshape(self.grid_size, self.grid_size,1),\n",
    "                                self.board.reshape(self.grid_size, self.grid_size,1),\n",
    "                        self.position.reshape(self.grid_size, self.grid_size,1)),axis=2)"
   ]
  },
  {
   "cell_type": "code",
   "execution_count": null,
   "metadata": {
    "collapsed": true
   },
   "outputs": [],
   "source": [
    "# Training\n",
    "env = EnvironmentExploring(grid_size=size, max_time=T, temperature=0.3)\n",
    "agent = DQN_CNN(size, lr=.1, epsilon = 0.1, memory_size=2000, batch_size = 32,n_state=3)\n",
    "train_explore(agent, env, epochs_train, prefix='cnn_train_explore')\n",
    "HTML(display_videos('cnn_train_explore10.mp4'))"
   ]
  },
  {
   "cell_type": "code",
   "execution_count": null,
   "metadata": {
    "collapsed": true
   },
   "outputs": [],
   "source": [
    "# Evaluation\n",
    "test(agent,env,epochs_test,prefix='cnn_test_explore')\n",
    "HTML(display_videos('cnn_test_explore10.mp4'))"
   ]
  },
  {
   "cell_type": "markdown",
   "metadata": {},
   "source": [
    "***\n",
    "***\n",
    "__BONUS question__ Use the expert DQN from the previous question to generate some winning games. Train a model that mimicks its behavior. Compare the performances."
   ]
  },
  {
   "cell_type": "markdown",
   "metadata": {},
   "source": []
  },
  {
   "cell_type": "markdown",
   "metadata": {},
   "source": [
    "***"
   ]
  }
 ],
 "metadata": {
  "kernelspec": {
   "display_name": "Python 3",
   "language": "python",
   "name": "python3"
  },
  "language_info": {
   "codemirror_mode": {
    "name": "ipython",
    "version": 3
   },
   "file_extension": ".py",
   "mimetype": "text/x-python",
   "name": "python",
   "nbconvert_exporter": "python",
   "pygments_lexer": "ipython3",
   "version": "3.6.5"
  }
 },
 "nbformat": 4,
 "nbformat_minor": 2
}
